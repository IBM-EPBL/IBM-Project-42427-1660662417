{
  "cells": [
    {
      "cell_type": "markdown",
      "metadata": {
        "id": "fwU2iooz85jt"
      },
      "source": [
        "## Exercises\n",
        "\n",
        "Answer the questions or complete the tasks outlined in bold below, use the specific method described if applicable."
      ]
    },
    {
      "cell_type": "markdown",
      "metadata": {
        "id": "SzBQQ_ml85j1"
      },
      "source": [
        "** What is 7 to the power of 4?**"
      ]
    },
    {
      "cell_type": "code",
      "execution_count": null,
      "metadata": {
        "id": "UhvE4PBC85j3",
        "outputId": "9efa25fe-b60c-425d-8ed7-a03ab1060a83",
        "colab": {
          "base_uri": "https://localhost:8080/"
        }
      },
      "outputs": [
        {
          "output_type": "stream",
          "name": "stdout",
          "text": [
            "2401\n"
          ]
        }
      ],
      "source": [
        "a=4\n",
        "b=7\n",
        "c=b**a\n",
        "print(c)"
      ]
    },
    {
      "cell_type": "markdown",
      "metadata": {
        "id": "ds8G9S8j85j6"
      },
      "source": [
        "** Split this string:**\n",
        "\n",
        "    s = \"Hi there Sam!\"\n",
        "    \n",
        "**into a list. **"
      ]
    },
    {
      "cell_type": "code",
      "execution_count": null,
      "metadata": {
        "collapsed": true,
        "id": "GD_Tls3H85j7",
        "outputId": "eab88ef4-339c-428d-eb07-db3a244256cb",
        "colab": {
          "base_uri": "https://localhost:8080/"
        }
      },
      "outputs": [
        {
          "output_type": "stream",
          "name": "stdout",
          "text": [
            "['Hi', 'there', 'sam!']\n"
          ]
        }
      ],
      "source": [
        "s=\"Hi there sam!\"\n",
        "n=s.split(\" \")\n",
        "print(n)"
      ]
    },
    {
      "cell_type": "code",
      "execution_count": null,
      "metadata": {
        "id": "RRGOKoai85j8",
        "outputId": "a5897f63-14cc-43f9-f421-8b343accb804",
        "colab": {
          "base_uri": "https://localhost:8080/"
        }
      },
      "outputs": [
        {
          "output_type": "stream",
          "name": "stdout",
          "text": [
            "['Hi', 'there', 'dad!']\n"
          ]
        }
      ],
      "source": [
        "s=\"Hi there dad!\"\n",
        "n=s.split(\" \")\n",
        "print(n)"
      ]
    },
    {
      "cell_type": "markdown",
      "metadata": {
        "id": "_bBNOu-785j9"
      },
      "source": [
        "** Given the variables:**\n",
        "\n",
        "    planet = \"Earth\"\n",
        "    diameter = 12742\n",
        "\n",
        "** Use .format() to print the following string: **\n",
        "\n",
        "    The diameter of Earth is 12742 kilometers."
      ]
    },
    {
      "cell_type": "code",
      "execution_count": null,
      "metadata": {
        "collapsed": true,
        "id": "2TrzmDcS85j-",
        "outputId": "e0003b05-ca90-43d4-d2e9-728499047221",
        "colab": {
          "base_uri": "https://localhost:8080/"
        }
      },
      "outputs": [
        {
          "output_type": "stream",
          "name": "stdout",
          "text": [
            "The diameter of Earth is 12742 kilometers.\n"
          ]
        }
      ],
      "source": [
        "v=\"The diameter of {planet} is {diameter} kilometers.\"\n",
        "k=v.format(planet=\"Earth\",diameter=12742)\n",
        "print(k)"
      ]
    },
    {
      "cell_type": "code",
      "execution_count": null,
      "metadata": {
        "id": "s_dQ7_xc85j_",
        "outputId": "01a5508c-667c-4661-f31e-ef4caeb22843",
        "colab": {
          "base_uri": "https://localhost:8080/"
        }
      },
      "outputs": [
        {
          "output_type": "stream",
          "name": "stdout",
          "text": [
            "The diameter of Earth is 12742 kilometers.\n"
          ]
        }
      ],
      "source": [
        "v=\"The diameter of {planet} is {diameter} kilometers.\"\n",
        "k=v.format(planet=\"Earth\",diameter=12742)\n",
        "print(k)"
      ]
    },
    {
      "cell_type": "markdown",
      "metadata": {
        "id": "QAKtN7Hh85kB"
      },
      "source": [
        "** Given this nested list, use indexing to grab the word \"hello\" **"
      ]
    },
    {
      "cell_type": "code",
      "execution_count": null,
      "metadata": {
        "collapsed": true,
        "id": "-7dzQDyK85kD"
      },
      "outputs": [],
      "source": [
        "lst = [1,2,[3,4],[5,[100,200,['hello']],23,11],1,7]"
      ]
    },
    {
      "cell_type": "code",
      "execution_count": null,
      "metadata": {
        "id": "6m5C0sTW85kE",
        "outputId": "635e0e3d-4bd3-4064-9a28-1bf3d2249459",
        "colab": {
          "base_uri": "https://localhost:8080/"
        }
      },
      "outputs": [
        {
          "output_type": "stream",
          "name": "stdout",
          "text": [
            "hello\n"
          ]
        }
      ],
      "source": [
        "lst =[1,2,[3,4],[5,[100,200,['hello']],23,11],1,7]\n",
        "print(lst[3][1][2][0])"
      ]
    },
    {
      "cell_type": "markdown",
      "metadata": {
        "id": "9Ma7M4a185kF"
      },
      "source": [
        "** Given this nest dictionary grab the word \"hello\". Be prepared, this will be annoying/tricky **"
      ]
    },
    {
      "cell_type": "code",
      "execution_count": null,
      "metadata": {
        "id": "vrYAxSYN85kG"
      },
      "outputs": [],
      "source": [
        "d = {'k1':[1,2,3,{'tricky':['oh','man','inception',{'target':[1,2,3,'hello']}]}]}"
      ]
    },
    {
      "cell_type": "code",
      "execution_count": null,
      "metadata": {
        "id": "FlILSdm485kH",
        "outputId": "5b0bf1e3-9ce1-45b8-b0f3-f65f16b1fc4c",
        "colab": {
          "base_uri": "https://localhost:8080/"
        }
      },
      "outputs": [
        {
          "output_type": "stream",
          "name": "stdout",
          "text": [
            "hello\n"
          ]
        }
      ],
      "source": [
        "d = {'k1':[1,2,3,{'tricky':['oh','man','inception',{'target':[1,2,3,'hello']}]}]}\n",
        "print(d['k1'][3][\"tricky\"][3]['target'][3])\n"
      ]
    },
    {
      "cell_type": "markdown",
      "metadata": {
        "id": "FInV_FKB85kI"
      },
      "source": [
        "** What is the main difference between a tuple and a list? **"
      ]
    },
    {
      "cell_type": "code",
      "execution_count": null,
      "metadata": {
        "collapsed": true,
        "id": "_VBWf00q85kJ",
        "outputId": "094d2b14-2c92-48de-8f8d-5ad6eb9eab5c",
        "colab": {
          "base_uri": "https://localhost:8080/"
        }
      },
      "outputs": [
        {
          "output_type": "stream",
          "name": "stdout",
          "text": [
            " t=(1,2,3\n",
            "tuple are immutable\n",
            "Tuple are faster than list\n"
          ]
        }
      ],
      "source": [
        "print(\" t=(1,2,3\") \n",
        "print(\"tuple are immutable\")\n",
        "print(\"Tuple are faster than list\")"
      ]
    },
    {
      "cell_type": "markdown",
      "metadata": {
        "id": "zP-j0HZj85kK"
      },
      "source": [
        "** Create a function that grabs the email website domain from a string in the form: **\n",
        "\n",
        "    user@domain.com\n",
        "    \n",
        "**So for example, passing \"user@domain.com\" would return: domain.com**"
      ]
    },
    {
      "cell_type": "code",
      "execution_count": null,
      "metadata": {
        "collapsed": true,
        "id": "unvEAwjk85kL"
      },
      "outputs": [],
      "source": [
        "def domainGet(email):\n",
        "  print(email.split('@')[-1])"
      ]
    },
    {
      "cell_type": "code",
      "execution_count": null,
      "metadata": {
        "id": "Gb9dspLC85kL",
        "outputId": "238417ba-4276-4077-9b27-83c602c8cdc0",
        "colab": {
          "base_uri": "https://localhost:8080/"
        }
      },
      "outputs": [
        {
          "output_type": "stream",
          "name": "stdout",
          "text": [
            "please enter your email:>sam@domain.com\n",
            "domain.com\n"
          ]
        }
      ],
      "source": [
        "email=input(\"please enter your email:>\")\n",
        "domainGet(email)"
      ]
    },
    {
      "cell_type": "markdown",
      "metadata": {
        "id": "gYydb-y085kM"
      },
      "source": [
        "** Create a basic function that returns True if the word 'dog' is contained in the input string. Don't worry about edge cases like a punctuation being attached to the word dog, but do account for capitalization. **"
      ]
    },
    {
      "cell_type": "code",
      "execution_count": null,
      "metadata": {
        "collapsed": true,
        "id": "Q4ldLGV785kM"
      },
      "outputs": [],
      "source": [
        "def findDog(st):\n",
        "  if'dog' in st.lower():\n",
        "    print(\"True\")\n",
        "  else:\n",
        "      print(\"False\")"
      ]
    },
    {
      "cell_type": "code",
      "execution_count": null,
      "metadata": {
        "id": "EqH6b7yv85kN",
        "outputId": "e098a42e-8b5b-4e44-84df-0b5931c589c7",
        "colab": {
          "base_uri": "https://localhost:8080/"
        }
      },
      "outputs": [
        {
          "output_type": "stream",
          "name": "stdout",
          "text": [
            "Please key a string:>dog\n",
            "True\n"
          ]
        }
      ],
      "source": [
        "st=input(\"Please key a string:>\")\n",
        "findDog(st)"
      ]
    },
    {
      "cell_type": "markdown",
      "metadata": {
        "id": "AyHQFALC85kO"
      },
      "source": [
        "** Create a function that counts the number of times the word \"dog\" occurs in a string. Again ignore edge cases. **"
      ]
    },
    {
      "cell_type": "code",
      "execution_count": null,
      "metadata": {
        "id": "6hdc169585kO"
      },
      "outputs": [],
      "source": [
        "def countdogs(string):\n",
        "  count=0\n",
        "  for word in string.lower().split():\n",
        "    if word=='dog' or word=='dogs':\n",
        "      count=count+1\n",
        "      print(count)"
      ]
    },
    {
      "cell_type": "code",
      "execution_count": null,
      "metadata": {
        "id": "igzsvHb385kO",
        "outputId": "d6335e34-80d8-4651-f3c1-7cd19db622a3",
        "colab": {
          "base_uri": "https://localhost:8080/"
        }
      },
      "outputs": [
        {
          "output_type": "stream",
          "name": "stdout",
          "text": [
            "Enter your string:dog\n",
            "1\n"
          ]
        }
      ],
      "source": [
        "string=input(\"Enter your string:\")\n",
        "countdogs(string)\n"
      ]
    },
    {
      "cell_type": "markdown",
      "metadata": {
        "id": "3n7jJt4k85kP"
      },
      "source": [
        "### Problem\n",
        "**You are driving a little too fast, and a police officer stops you. Write a function\n",
        "  to return one of 3 possible results: \"No ticket\", \"Small ticket\", or \"Big Ticket\". \n",
        "  If your speed is 60 or less, the result is \"No Ticket\". If speed is between 61 \n",
        "  and 80 inclusive, the result is \"Small Ticket\". If speed is 81 or more, the result is \"Big    Ticket\". Unless it is your birthday (encoded as a boolean value in the parameters of the function) -- on your birthday, your speed can be 5 higher in all \n",
        "  cases. **"
      ]
    },
    {
      "cell_type": "code",
      "execution_count": null,
      "metadata": {
        "collapsed": true,
        "id": "nvXMkvWk85kQ"
      },
      "outputs": [],
      "source": [
        "def caught_speeding(speed, is_birthday):\n",
        "    \n",
        "    if is_birthday:\n",
        "        speeding = speed - 5\n",
        "    else:\n",
        "        speeding = speed\n",
        "    \n",
        "    if speeding > 80:\n",
        "        return 'Big Ticket'\n",
        "    elif speeding > 60:\n",
        "        return 'Small Ticket'\n",
        "    else:\n",
        "        return 'No Ticket'"
      ]
    },
    {
      "cell_type": "code",
      "execution_count": null,
      "metadata": {
        "id": "BU_UZcyk85kS",
        "outputId": "7ce05b73-2685-48cf-a4b3-130748968314",
        "colab": {
          "base_uri": "https://localhost:8080/"
        }
      },
      "outputs": [
        {
          "output_type": "stream",
          "name": "stdout",
          "text": [
            "Enter the speed(km/h)(only member phase):\n",
            "\n",
            ">81\n",
            "Enter your birthday:(in DD/MM/YYYY format)\n",
            "\n",
            ">01/06/2001\n",
            "Big Ticktet\n"
          ]
        }
      ],
      "source": [
        "print(\"Enter the speed(km/h)(only member phase):\\n\")\n",
        "speed=int(input(\">\"))\n",
        "print(\"Enter your birthday:(in DD/MM/YYYY format)\\n\")\n",
        "is_birthday=str(input(\">\"))\n",
        "def caught_speeding(speed, is_birthday):\n",
        "    \n",
        "    if is_birthday=='28/07/2000':\n",
        "        speeding = speed - 5\n",
        "    else:\n",
        "        speeding = speed\n",
        "    \n",
        "    if speeding <=60:\n",
        "        print(\"no ticket\")\n",
        "    elif speeding>61 and speeding<=80:\n",
        "      print(\"Small Ticket\")\n",
        "    else:\n",
        "      print(\"Big Ticktet\")\n",
        "caught_speeding(speed,is_birthday)"
      ]
    },
    {
      "cell_type": "code",
      "execution_count": null,
      "metadata": {
        "id": "p1AGJ7DM85kR",
        "outputId": "e0fb1ce9-2001-4f9f-e75c-72fe26012ace",
        "colab": {
          "base_uri": "https://localhost:8080/"
        }
      },
      "outputs": [
        {
          "output_type": "stream",
          "name": "stdout",
          "text": [
            "Enter the speed(km/h)(only member phase):\n",
            "\n",
            ">67\n",
            "Enter your birthday:(in DD/MM/YYYY format)\n",
            "\n",
            ">28/07/2000\n",
            "Small Ticket\n"
          ]
        }
      ],
      "source": [
        "print(\"Enter the speed(km/h)(only member phase):\\n\")\n",
        "speed=int(input(\">\"))\n",
        "print(\"Enter your birthday:(in DD/MM/YYYY format)\\n\")\n",
        "is_birthday=str(input(\">\"))\n",
        "def caught_speeding(speed, is_birthday):\n",
        "    \n",
        "    if is_birthday=='28/07/2000':\n",
        "        speeding = speed - 5\n",
        "    else:\n",
        "        speeding = speed\n",
        "    \n",
        "    if speeding <=60:\n",
        "        print(\"no ticket\")\n",
        "    elif speeding>61 and speeding<=80:\n",
        "      print(\"Small Ticket\")\n",
        "    else:\n",
        "      print(\"Big Ticktet\")\n",
        "caught_speeding(speed,is_birthday)"
      ]
    },
    {
      "cell_type": "markdown",
      "source": [
        "Create an employee list with basic salary values(at least 5 values for 5 employees)  and using a for loop retreive each employee salary and calculate total salary expenditure. "
      ],
      "metadata": {
        "id": "Tie4rC7_kAOC"
      }
    },
    {
      "cell_type": "code",
      "source": [
        "def weeklyPaid(hours_worked, wage):\n",
        "    if hours_worked > 40:\n",
        "        return 40 * wage + (hours_worked - 40) * wage * 1.5\n",
        "    else:\n",
        "        return hours_worked * wage\n",
        "hours_worked = 36\n",
        "wage = 500\n",
        "pay = weeklyPaid(hours_worked, wage)\n",
        "print(f\"Total slaery expenditure: Rs.{pay:.2f} \")"
      ],
      "metadata": {
        "id": "R5-CdXSKjacN",
        "outputId": "41d1bde5-b429-42f5-8a17-823512083aa8",
        "colab": {
          "base_uri": "https://localhost:8080/"
        }
      },
      "execution_count": null,
      "outputs": [
        {
          "output_type": "stream",
          "name": "stdout",
          "text": [
            "Total slaery expenditure: Rs.18000.00 \n"
          ]
        }
      ]
    },
    {
      "cell_type": "markdown",
      "source": [
        "Create two dictionaries in Python:\n",
        "\n",
        "First one to contain fields as Empid,  Empname,  Basicpay\n",
        "\n",
        "Second dictionary to contain fields as DeptName,  DeptId.\n",
        "\n",
        "Combine both dictionaries. "
      ],
      "metadata": {
        "id": "-L1aiFqRkF5s"
      }
    },
    {
      "cell_type": "code",
      "source": [
        "def Merge(dict1, dict2):\n",
        "    res = {**dict1, **dict2}\n",
        "    return res  \n",
        "dict1 = {'EmpName': 'monik','Empid':'7321', 'Basicpay': 20000}\n",
        "dict2 = {'depname': 'production', 'depid': 123}\n",
        "dict3 = Merge(dict1, dict2)\n",
        "print(dict3)"
      ],
      "metadata": {
        "id": "8ugVoEe0kOsk",
        "outputId": "51ce8c17-901c-4f70-fa2e-bbbdc0c64889",
        "colab": {
          "base_uri": "https://localhost:8080/"
        }
      },
      "execution_count": 4,
      "outputs": [
        {
          "output_type": "stream",
          "name": "stdout",
          "text": [
            "{'EmpName': 'monik', 'Empid': '7321', 'Basicpay': 20000, 'depname': 'production', 'depid': 123}\n"
          ]
        }
      ]
    }
  ],
  "metadata": {
    "colab": {
      "provenance": []
    },
    "kernelspec": {
      "display_name": "Python 3",
      "language": "python",
      "name": "python3"
    },
    "language_info": {
      "codemirror_mode": {
        "name": "ipython",
        "version": 3
      },
      "file_extension": ".py",
      "mimetype": "text/x-python",
      "name": "python",
      "nbconvert_exporter": "python",
      "pygments_lexer": "ipython3",
      "version": "3.8.5"
    }
  },
  "nbformat": 4,
  "nbformat_minor": 0
}